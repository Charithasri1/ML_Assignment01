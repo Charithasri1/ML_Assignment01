{
  "nbformat": 4,
  "nbformat_minor": 0,
  "metadata": {
    "colab": {
      "provenance": []
    },
    "kernelspec": {
      "name": "python3",
      "display_name": "Python 3"
    },
    "language_info": {
      "name": "python"
    }
  },
  "cells": [
    {
      "cell_type": "markdown",
      "source": [
        "1.The following is a list of 10 students ages:\n",
        "ages = [19, 22, 19, 24, 20, 25, 26, 24, 25, 24]\n",
        "• Sort the list and find the min and max age\n",
        "• Add the min age and the max age again to the list\n",
        "• Find the median age (one middle item or two middle items divided by two)\n",
        "• Find the average age (sum of all items divided by their number)\n",
        "• Find the range of the ages (max minus min)\n"
      ],
      "metadata": {
        "id": "ePWmrvUQWS5Y"
      }
    },
    {
      "cell_type": "code",
      "execution_count": 5,
      "metadata": {
        "colab": {
          "base_uri": "https://localhost:8080/"
        },
        "id": "gIAgiGviDcAx",
        "outputId": "be21f216-83bb-4477-8424-02fa93cf2b07"
      },
      "outputs": [
        {
          "output_type": "stream",
          "name": "stdout",
          "text": [
            "sorted list: [19, 19, 20, 22, 24, 24, 24, 25, 25, 26]\n",
            "minimum age: 19\n",
            "maximum age: 26\n",
            "median age: 25.5\n",
            "average age: 22.75\n",
            "range of ages: 7\n"
          ]
        }
      ],
      "source": [
        "ages = [19, 22, 19, 24, 20, 25, 26, 24, 25, 24]\n",
        "print(\"sorted list:\",sorted(ages))#sorting the list\n",
        "print(\"minimum age:\",min(ages))#minimum 0f ages\n",
        "print(\"maximum age:\",max(ages))#maximum of ages\n",
        "ages.append(min(ages))\n",
        "ages.append(max(ages))\n",
        "sorted(ages)\n",
        "n=len(ages)\n",
        "if n % 2 == 0:\n",
        "    median1 = ages[n//2]\n",
        "    median2 = ages[n//2 - 1]\n",
        "    median = (median1 + median2)/2\n",
        "else:\n",
        "    median = ages[n//2]\n",
        "print(\"median age:\",+median)#mediann of the list\n",
        "print(\"average age:\",sum(ages)/len(ages))#average of the list\n",
        "print(\"range of ages:\",max(ages)-min(ages))#range of the list\n",
        " \n",
        " \n",
        "\n"
      ]
    },
    {
      "cell_type": "markdown",
      "source": [
        "2.\n",
        "• Create an empty dictionary called dog\n",
        "• Add name, color, breed, legs, age to the dog dictionary\n",
        "• Create a student dictionary and add first_name, last_name, gender, age, marital status, \n",
        "skills, country, city and address as keys for the dictionary\n",
        "• Get the length of the student dictionary\n",
        "• Get the value of skills and check the data type, it should be a list\n",
        "• Modify the skills values by adding one or two skills\n",
        "• Get the dictionary keys as a list\n",
        "• Get the dictionary values as a list"
      ],
      "metadata": {
        "id": "1U0XfX3QYRer"
      }
    },
    {
      "cell_type": "code",
      "source": [
        "dog=dict()#creating a dog dictonary\n",
        "dog[\"name\"]=\"snoopy\";dog[\"color\"] = \"brown\";dog[\"breed\"] = \"maltipoo\"; dog[\"legs\"] = 4; dog[\"age\"] = 3 #adding attributes\n",
        "student = {\"first_name\": \"charithasri\", \"last_name\": \"vadlamudi\", \"gender\": \"female\", \"age\": 21, \"marital_status\": \"single\", \"skills\": [\"Python\", \"Java\"], \"country\": \"USA\", \"city\": \"New York\", \"address\": \"141 St\"}#creating student dictonary\n",
        "print(\"length of student:\",len(student))#length of student dictonary\n",
        "value= student[\"skills\"]\n",
        "print(\"value of skills:\",value)\n",
        "print(\"datatype of skills:\",type(value))#printing the data type of skills attribute\n",
        "student[\"skills\"].append(\"C\")#appending the skills attribute\n",
        "student[\"skills\"].append(\"R\")\n",
        "keys = list(student.keys())\n",
        "print(\"keys of student dictonary:\",keys)# printing the keys of student as list\n",
        "values = list(student.values())\n",
        "print(\"values of student dictonary:\",values)#printing the values of student as list"
      ],
      "metadata": {
        "colab": {
          "base_uri": "https://localhost:8080/"
        },
        "id": "IEs9YdDOLXnl",
        "outputId": "04cf8de1-f7e8-414f-a528-118a561d6b53"
      },
      "execution_count": 6,
      "outputs": [
        {
          "output_type": "stream",
          "name": "stdout",
          "text": [
            "length of student: 9\n",
            "value of skills: ['Python', 'Java']\n",
            "datatype of skills: <class 'list'>\n",
            "keys of student dictonary: ['first_name', 'last_name', 'gender', 'age', 'marital_status', 'skills', 'country', 'city', 'address']\n",
            "values of student dictonary: ['charithasri', 'vadlamudi', 'female', 21, 'single', ['Python', 'Java', 'C', 'R'], 'USA', 'New York', '141 St']\n"
          ]
        }
      ]
    },
    {
      "cell_type": "markdown",
      "source": [
        "3.\n",
        "• Create a tuple containing names of your sisters and your brothers (imaginary siblings are \n",
        "fine)\n",
        "• Join brothers and sisters tuples and assign it to siblings\n",
        "• How many siblings do you have?\n",
        "• Modify the siblings tuple and add the name of your father and mother and assign it to \n",
        "family_members"
      ],
      "metadata": {
        "id": "b51f2VOBW_1A"
      }
    },
    {
      "cell_type": "code",
      "source": [
        "sisters=(\"bhavya\",\"mihira\",\"richitha\")#creating sisters tuple\n",
        "brothers=(\"sahith\",\"harish\",\"sandeep\")#creating brothers tuple\n",
        "siblings=sisters+brothers#joining the sisters and brothers tuples\n",
        "print(\"length of siblings tuple:\",len(siblings))#length of the siblings of tuple\n",
        "family_members=siblings+(\"rama\",\"sitaramulu\")#adding father and mother names\n",
        "print(family_members)"
      ],
      "metadata": {
        "colab": {
          "base_uri": "https://localhost:8080/"
        },
        "id": "Wa5ry5iGRCp_",
        "outputId": "eab58a31-84ce-4c0e-8efa-70063547b065"
      },
      "execution_count": 9,
      "outputs": [
        {
          "output_type": "stream",
          "name": "stdout",
          "text": [
            "length of siblings tuple: 6\n",
            "('bhavya', 'mihira', 'richitha', 'sahith', 'harish', 'sandeep', 'rama', 'sitaramulu')\n"
          ]
        }
      ]
    },
    {
      "cell_type": "markdown",
      "source": [
        "4.\n",
        "it_companies = {'Facebook', 'Google', 'Microsoft', 'Apple', 'IBM', 'Oracle', 'Amazon'} \n",
        "A = {19, 22, 24, 20, 25, 26}\n",
        "B = {19, 22, 20, 25, 26, 24, 28, 27}\n",
        "age = [22, 19, 24, 25, 26, 24, 25, 24]\n",
        "• Find the length of the set it_companies\n",
        "• Add 'Twitter' to it_companies\n",
        "• Insert multiple IT companies at once to the set it_companies\n",
        "• Remove one of the companies from the set it_companies\n",
        "• What is the difference between remove and discard\n",
        "• Join A and B\n",
        "• Find A intersection B\n",
        "• Is A subset of B\n",
        "• Are A and B disjoint sets\n",
        "• Join A with B and B with A\n",
        "• What is the symmetric difference between A and B\n",
        "• Delete the sets completely\n",
        "• Convert the ages to a set and compare the length of the list and the set."
      ],
      "metadata": {
        "id": "eykmjcTdXRGh"
      }
    },
    {
      "cell_type": "code",
      "source": [
        "it_companies = {'Facebook', 'Google', 'Microsoft', 'Apple', 'IBM', 'Oracle', 'Amazon'} \n",
        "A = {19, 22, 24, 20, 25, 26}\n",
        "B = {19, 22, 20, 25, 26, 24, 28, 27}\n",
        "age = [22, 19, 24, 25, 26, 24, 25, 24]\n",
        "print(\"length of it_companies:\",len(it_companies))#length of it_companies\n",
        "it_companies.add(\"Twitter\")#adding \"Twitter\" to it_companies\n",
        "it_companies.update([\"CTS\", \"TCS\", \"Accenture\"])#inserting into it_companies\n",
        "it_companies.remove(\"TCS\")#removing of the company from it_companies\n",
        "print(\"union of A and B:\",A | B)#union of A and B\n",
        "print(\"intersection of A and B:\",A & B)#intersection of A and B\n",
        "print(A.issubset(B))#Is A subset of B\n",
        "print(A.isdisjoint(B))#IS A nd B are disjoint sets\n",
        "print(\"joinning A with B:\",A.union(B),\"joining B with A:\",B.union(B))#joining A with B and B with A\n",
        "print(\"difference of A and B:\",A ^ B)#difference of A and B\n",
        "del A; del B#deleting sets A and B\n",
        "age_set = set(age)#coverting ages to set\n",
        "len(age) == len(age_set)#comparing the length of set and list"
      ],
      "metadata": {
        "colab": {
          "base_uri": "https://localhost:8080/"
        },
        "id": "AtSxHyBrQCrk",
        "outputId": "a08a1f4e-1dc0-4666-a55a-1537f4e80a33"
      },
      "execution_count": 10,
      "outputs": [
        {
          "output_type": "stream",
          "name": "stdout",
          "text": [
            "length of it_companies: 7\n",
            "union of A and B: {19, 20, 22, 24, 25, 26, 27, 28}\n",
            "intersection of A and B: {19, 20, 22, 24, 25, 26}\n",
            "True\n",
            "False\n",
            "joinning A with B: {19, 20, 22, 24, 25, 26, 27, 28} joining B with A: {19, 20, 22, 24, 25, 26, 27, 28}\n",
            "difference of A and B: {27, 28}\n"
          ]
        },
        {
          "output_type": "execute_result",
          "data": {
            "text/plain": [
              "False"
            ]
          },
          "metadata": {},
          "execution_count": 10
        }
      ]
    },
    {
      "cell_type": "markdown",
      "source": [
        "5.\n",
        "The radius of a circle is 30 meters.\n",
        "• Calculate the area of a circle and assign the value to a variable name of _area_of_circle_\n",
        "• Calculate the circumference of a circle and assign the value to a variable name of\n",
        "_circum_of_circle_\n",
        "• Take radius as user input and calculate the area."
      ],
      "metadata": {
        "id": "z4aL6rYbXUtc"
      }
    },
    {
      "cell_type": "code",
      "source": [
        "radius=30\n",
        "print(\"arear of circle:\",3.14*(radius**2))#calculating radius of the circle ie.,pi*r*r and pi value is 3.14\n",
        "print(\"circumference of circle:\",2*3.14*radius)#calculating radius of the circle ie,'2*pi*r and pi value is 3.14\n",
        "radius = float(input(\"Enter the radius of the circle: \"))#taking the radius manually\n",
        "area = 3.14 * (radius ** 2)\n",
        "print(\"The area of the circle is:\", area)\n",
        "\n"
      ],
      "metadata": {
        "colab": {
          "base_uri": "https://localhost:8080/"
        },
        "id": "_iY2_l1dXfEO",
        "outputId": "4c842442-9940-41f5-d6da-d2c78c954258"
      },
      "execution_count": 11,
      "outputs": [
        {
          "output_type": "stream",
          "name": "stdout",
          "text": [
            "arear of circle: 2826.0\n",
            "circumference of circle: 188.4\n",
            "Enter the radius of the circle: 30\n",
            "The area of the circle is: 2826.0\n"
          ]
        }
      ]
    },
    {
      "cell_type": "markdown",
      "source": [
        "6.\n",
        "“I am a teacher and I love to inspire and teach people”\n",
        "• How many unique words have been used in the sentence? Use the split methods and set \n",
        "to get the unique words"
      ],
      "metadata": {
        "id": "PsTd54vDXezu"
      }
    },
    {
      "cell_type": "code",
      "source": [
        "sentence = \"I am a teacher and I love to inspire and teach people\"\n",
        "words = sentence.split()#splliting the sentence\n",
        "unique_words = set(words)\n",
        "noof_unique_words = len(unique_words)#length of the unique words\n",
        "\n",
        "print(\"Number of unique words used in the sentence:\", noof_unique_words)"
      ],
      "metadata": {
        "colab": {
          "base_uri": "https://localhost:8080/"
        },
        "id": "AA9hvxjQY3Bv",
        "outputId": "ab0895b3-1b27-4e92-a742-e045c17b862c"
      },
      "execution_count": 12,
      "outputs": [
        {
          "output_type": "stream",
          "name": "stdout",
          "text": [
            "Number of unique words used in the sentence: 10\n"
          ]
        }
      ]
    },
    {
      "cell_type": "markdown",
      "source": [
        "7.\n",
        "Use a tab escape sequence to get the following lines.\n",
        "Name Age Country City \n",
        "Asabeneh 250 Finland Helsinki\n"
      ],
      "metadata": {
        "id": "xQCNT_czXweS"
      }
    },
    {
      "cell_type": "code",
      "source": [
        "print(\"Name\\tAge\\tCountry\\tCity\")#using tab escape sequence\n",
        "print(\"Asabeneh\\t250\\tFinland\\tHelsink\")\n"
      ],
      "metadata": {
        "colab": {
          "base_uri": "https://localhost:8080/"
        },
        "id": "SLpAdY80ZsV3",
        "outputId": "e9716008-1ec5-4dd7-d30e-c2e83b4c7cfa"
      },
      "execution_count": 13,
      "outputs": [
        {
          "output_type": "stream",
          "name": "stdout",
          "text": [
            "Name\tAge\tCountry\tCity\n",
            "Asabeneh\t250\tFinland\tHelsink\n"
          ]
        }
      ]
    },
    {
      "cell_type": "markdown",
      "source": [
        "8.\n",
        "Use the string formatting method to display the following:\n",
        "radius = 10\n",
        "area = 3.14 * radius ** 2\n",
        "“The area of a circle with radius 10 is 314 meters square.”"
      ],
      "metadata": {
        "id": "L8LTi_peX4br"
      }
    },
    {
      "cell_type": "code",
      "source": [
        "radius = 10\n",
        "area = 3.14 * (radius ** 2)\n",
        "print(\"The area of a circle with radius{} is {} meters square.\".format(radius, area))#printing the radius of the circle  and using .format() method\n"
      ],
      "metadata": {
        "colab": {
          "base_uri": "https://localhost:8080/"
        },
        "id": "89dENkZdaX8m",
        "outputId": "b1e73dde-f640-4386-96c1-7f12d3665ae0"
      },
      "execution_count": 14,
      "outputs": [
        {
          "output_type": "stream",
          "name": "stdout",
          "text": [
            "The area of a circle with radius10 is 314.0 meters square.\n"
          ]
        }
      ]
    },
    {
      "cell_type": "markdown",
      "source": [
        "9.\n",
        "Write a program, which reads weights (lbs.) of N students into a list and convert these weights to \n",
        "kilograms in a separate list using Loop. N: No of students (Read input from user)\n",
        "Ex: L1: [150, 155, 145, 148]\n",
        "Output: [68.03, 70.3, 65.77, 67.13]"
      ],
      "metadata": {
        "id": "jwf03Z1gX-Qm"
      }
    },
    {
      "cell_type": "code",
      "source": [
        "n = int(input(\"Enter the number of students: \"))#entering the no of students\n",
        "weights_lbs = []#list for weights in lbs\n",
        "weights_kgs = []#list for weight in kgs\n",
        "\n",
        "for i in range(n):\n",
        "    weight = float(input(\"Enter the weight of student {} in pounds: \".format(i+1)))#enterning each weight\n",
        "    weights_lbs.append(weight)#appending weights in lbs to list\n",
        "    weight_kg = weight * 0.453592#multiplying the weight in lbs to get weight in kgs\n",
        "    weights_kgs.append(weight_kg)\n",
        "\n",
        "print(\"Weights in pounds:\", weights_lbs)#printing list in lbs\n",
        "print(\"Weights in kilograms:\", weights_kgs)#printing list in kgs\n"
      ],
      "metadata": {
        "colab": {
          "base_uri": "https://localhost:8080/"
        },
        "id": "k4BiIowLblFR",
        "outputId": "8cd9c49b-b6dc-4e20-d157-00fd28112f63"
      },
      "execution_count": 16,
      "outputs": [
        {
          "output_type": "stream",
          "name": "stdout",
          "text": [
            "Enter the number of students: 4\n",
            "Enter the weight of student 1 in pounds: 150\n",
            "Enter the weight of student 2 in pounds: 155\n",
            "Enter the weight of student 3 in pounds: 145\n",
            "Enter the weight of student 4 in pounds: 148\n",
            "Weights in pounds: [150.0, 155.0, 145.0, 148.0]\n",
            "Weights in kilograms: [68.0388, 70.30676, 65.77083999999999, 67.131616]\n"
          ]
        }
      ]
    }
  ]
}